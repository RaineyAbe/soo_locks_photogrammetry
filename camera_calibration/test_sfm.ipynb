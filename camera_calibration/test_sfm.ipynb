{
 "cells": [
  {
   "cell_type": "markdown",
   "id": "6d519a26",
   "metadata": {},
   "source": [
    "# Test creating a DEM using the orthoimages"
   ]
  },
  {
   "cell_type": "code",
   "execution_count": null,
   "id": "d4a1ab97",
   "metadata": {},
   "outputs": [],
   "source": [
    "import os\n",
    "from glob import glob\n",
    "import subprocess\n",
    "from tqdm import tqdm\n",
    "import numpy as np\n",
    "import rioxarray as rxr\n",
    "import xarray as xr\n",
    "import matplotlib.pyplot as plt\n",
    "\n",
    "# Define paths to orthoimages, cameras, and reference DEM\n",
    "data_folder = '/Users/rdcrlrka/Research/Soo_locks'\n",
    "out_folder = os.path.join(data_folder, '20251001_imagery', 'frames_IR_proc_out')\n",
    "ortho_folder = os.path.join(out_folder, 'final_ortho')\n",
    "cam_folder = os.path.join(out_folder, 'bundle_adjust')\n",
    "refdem_file = os.path.join(os.getcwd(), '..', 'inputs', '20251001_Soo_Model_1cm_mean_UTM19N-fake_filled.tif')\n",
    "\n",
    "# Get images and cameras\n",
    "image_list = sorted(glob(os.path.join(ortho_folder, '*.tiff')))\n",
    "cam_list = sorted(glob(os.path.join(cam_folder, '*.tsai')))\n",
    "print(f'Located {len(image_list)} images and {len(cam_list)} cameras')\n",
    "\n",
    "# Define output folder\n",
    "final_stereo_folder = os.path.join(out_folder, 'final_stereo')\n",
    "os.makedirs(final_stereo_folder, exist_ok=True)"
   ]
  },
  {
   "cell_type": "markdown",
   "id": "ff86574e",
   "metadata": {},
   "source": [
    "## Run stereo"
   ]
  },
  {
   "cell_type": "code",
   "execution_count": null,
   "id": "3fbbbad0",
   "metadata": {},
   "outputs": [],
   "source": [
    "# Set up image pairs\n",
    "image1_list, image2_list = image_list[0:-1], image_list[1:]\n",
    "cam1_list, cam2_list = cam_list[0:-1], cam_list[1:]\n",
    "\n",
    "# Iterate over pairs\n",
    "for i in tqdm(range(len(image1_list))):\n",
    "    image1, image2 = image1_list[i], image2_list[i]\n",
    "    cam1, cam2 = cam1_list[i], cam2_list[i]\n",
    "\n",
    "    pair_prefix = os.path.join(\n",
    "        final_stereo_folder,\n",
    "        os.path.splitext(os.path.basename(image1))[0] + '__' + os.path.splitext(os.path.basename(image2))[0],\n",
    "        'run'\n",
    "        )\n",
    "    \n",
    "    cmd = [\n",
    "        'parallel_stereo',\n",
    "        '--threads-singleprocess', '12',\n",
    "        '--threads-multiprocess', '12',\n",
    "        image1, image2,\n",
    "        cam1, cam2,\n",
    "        pair_prefix,\n",
    "        refdem_file\n",
    "    ]\n",
    "    subprocess.run(cmd)"
   ]
  },
  {
   "cell_type": "markdown",
   "id": "0ba982cb",
   "metadata": {},
   "source": [
    "## Rasterize point clouds"
   ]
  },
  {
   "cell_type": "code",
   "execution_count": null,
   "id": "a83c67c8",
   "metadata": {},
   "outputs": [],
   "source": [
    "pc_files = sorted(glob(os.path.join(final_stereo_folder, '*', '*-PC.tif')))\n",
    "for pc in tqdm(pc_files):\n",
    "    cmd = [\n",
    "        'point2dem',\n",
    "        '--threads', '12',\n",
    "        '--tr', '0.01',\n",
    "        pc\n",
    "    ]\n",
    "    subprocess.run(cmd)"
   ]
  },
  {
   "cell_type": "markdown",
   "id": "7a55503e",
   "metadata": {},
   "source": [
    "## Mosaic DEMs"
   ]
  },
  {
   "cell_type": "code",
   "execution_count": null,
   "id": "87fdc25e",
   "metadata": {},
   "outputs": [],
   "source": [
    "dem_fns = sorted(glob(os.path.join(final_stereo_folder, '*', '*DEM.tif')))\n",
    "mosaic_fn = os.path.join(final_stereo_folder, f'DEM_mosaic.tif')\n",
    "cmd = [\n",
    "    'dem_mosaic',\n",
    "    '--threads', '12',\n",
    "    '-o', mosaic_fn\n",
    "] + dem_fns\n",
    "subprocess.run(cmd)"
   ]
  },
  {
   "cell_type": "markdown",
   "id": "d560ef40",
   "metadata": {},
   "source": [
    "## Plot results"
   ]
  },
  {
   "cell_type": "code",
   "execution_count": null,
   "id": "db57bd29",
   "metadata": {},
   "outputs": [],
   "source": [
    "# Load the input files\n",
    "def load_raster(raster_file):\n",
    "    raster = rxr.open_rasterio(raster_file).squeeze()\n",
    "    crs = raster.rio.crs\n",
    "    raster = xr.where(raster < -100, np.nan, raster)\n",
    "    raster.rio.write_crs(crs, inplace=True)\n",
    "    return raster\n",
    "ortho_file = os.path.join(ortho_folder, 'orthomosaic.tif')\n",
    "ortho = load_raster(ortho_file)\n",
    "dem_file = os.path.join(final_stereo_folder, 'DEM_mosaic.tif')\n",
    "dem = load_raster(dem_file)\n",
    "refdem = load_raster(refdem_file)\n",
    "refdem = refdem.rio.reproject_match(dem)\n",
    "\n",
    "plt.rcParams.update({'font.sans-serif': 'Verdana', 'font.size': 12})\n",
    "fig, ax = plt.subplots(1, 3, figsize=(18,8))\n",
    "# Ortho\n",
    "ax[0].imshow(\n",
    "    ortho,\n",
    "    cmap='Grays_r',\n",
    "    extent=(min(ortho.x), max(ortho.x), min(ortho.y), max(ortho.y))\n",
    ")\n",
    "ax[0].set_title('IR image mosaic')\n",
    "# DEM\n",
    "im = ax[1].imshow(\n",
    "    dem, \n",
    "    cmap='terrain', \n",
    "    extent=(min(dem.x), max(dem.x), min(dem.y), max(dem.y), 'meters')\n",
    "    )\n",
    "cb = fig.colorbar(im, shrink=0.5)\n",
    "ax[1].set_title('DSM mosaic')\n",
    "# DEM - refdem\n",
    "im = ax[2].imshow(\n",
    "    dem - refdem, \n",
    "    cmap='coolwarm_r',\n",
    "    clim=(-1,1),\n",
    "    extent=(min(dem.x), max(dem.x), min(dem.y), max(dem.y))\n",
    "    )\n",
    "cb = fig.colorbar(im, shrink=0.5, label='meters')\n",
    "ax[2].set_title('DSM mosaic - Lidar mean')\n",
    "\n",
    "for axis in ax:\n",
    "    axis.set_xticks([])\n",
    "    axis.set_yticks([])\n",
    "\n",
    "fig.tight_layout()\n",
    "plt.show()\n",
    "\n",
    "# Save to file\n",
    "fig_file = os.path.join(out_folder, 'result.jpg')\n",
    "fig.savefig(fig_file, dpi=300, bbox_inches='tight')\n",
    "print('Figure saved to file:', fig_file)"
   ]
  }
 ],
 "metadata": {
  "kernelspec": {
   "display_name": "soo_locs",
   "language": "python",
   "name": "python3"
  },
  "language_info": {
   "codemirror_mode": {
    "name": "ipython",
    "version": 3
   },
   "file_extension": ".py",
   "mimetype": "text/x-python",
   "name": "python",
   "nbconvert_exporter": "python",
   "pygments_lexer": "ipython3",
   "version": "3.13.7"
  }
 },
 "nbformat": 4,
 "nbformat_minor": 5
}
