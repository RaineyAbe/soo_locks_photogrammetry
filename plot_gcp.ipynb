{
 "cells": [
  {
   "cell_type": "markdown",
   "id": "f94e95a3",
   "metadata": {},
   "source": [
    "# Plot GCP with lidar reflectance and IR images"
   ]
  },
  {
   "cell_type": "code",
   "execution_count": null,
   "id": "77c73c89",
   "metadata": {},
   "outputs": [],
   "source": [
    "import os\n",
    "from glob import glob\n",
    "import pandas as pd\n",
    "import rioxarray as rxr\n",
    "import xarray as xr\n",
    "import numpy as np\n",
    "import matplotlib.pyplot as plt\n",
    "from tqdm import tqdm"
   ]
  },
  {
   "cell_type": "code",
   "execution_count": null,
   "id": "078cdc57",
   "metadata": {},
   "outputs": [],
   "source": [
    "# Define input files\n",
    "data_folder = '/Users/rdcrlrka/Research/Soo_locks'\n",
    "dem_fn = os.path.join(data_folder, '20251001_TLS', '2025-10-01-soo-model_5mm_Ground_Z.tif')\n",
    "refl_fn = os.path.join(data_folder, '20251001_TLS', '2025-10-01-soo-model_5mm_Ground_Reflectance.tif')\n",
    "X_fn = os.path.join(data_folder, '20251001_TLS', '2025-10-01-soo-model_5mm_Ground_X.tif')\n",
    "Y_fn = os.path.join(data_folder, '20251001_TLS', '2025-10-01-soo-model_5mm_Ground_Y.tif')\n",
    "img_folder = os.path.join(data_folder, '20251001_imagery', 'frames_IR')\n",
    "gcp_fn = os.path.join(data_folder, '20251001_imagery', 'GCP.xlsx')\n",
    "out_folder = os.path.join(img_folder + '_proc_out', 'figures')\n",
    "os.makedirs(out_folder, exist_ok=True)\n",
    "\n",
    "# Load GCP and reflectance image\n",
    "gcp = pd.read_excel(gcp_fn)\n",
    "def load_raster(fn):\n",
    "    raster = rxr.open_rasterio(fn).squeeze()\n",
    "    raster = xr.where(raster==-9999, np.nan, raster)\n",
    "    return raster\n",
    "refl = load_raster(refl_fn)\n",
    "X = load_raster(X_fn)\n",
    "Y = load_raster(Y_fn)"
   ]
  },
  {
   "cell_type": "code",
   "execution_count": null,
   "id": "2ac7a070",
   "metadata": {},
   "outputs": [],
   "source": [
    "# Iterate over images in GCP\n",
    "for img_name in tqdm(gcp['image_path'].drop_duplicates().values):\n",
    "\n",
    "    print(img_name)\n",
    "\n",
    "    # load image\n",
    "    img_fn = os.path.join(img_folder, img_name)\n",
    "    img = rxr.open_rasterio(img_fn)\n",
    "\n",
    "    fig_fn = os.path.join(out_folder, f\"gcp_{os.path.basename(img_fn)}.png\")\n",
    "    if os.path.exists(fig_fn):\n",
    "        continue\n",
    "\n",
    "    # get all the GCP for that image\n",
    "    gcp_img = gcp.loc[gcp['image_path']==img_name].reset_index(drop=True)\n",
    "\n",
    "    # plot\n",
    "    fig, ax = plt.subplots(1, 2, figsize=(14,6))\n",
    "    ax[0].imshow(img.data[0], cmap='Grays_r', \n",
    "                 extent=(min(img.x), max(img.x), min(img.y), max(img.y)))\n",
    "    ax[1].imshow(refl.data, cmap='Grays_r',\n",
    "                 extent=(min(refl.x), max(refl.x), min(refl.y), max(refl.y)))\n",
    "    \n",
    "    # plot GCP\n",
    "    xmin, ymin, xmax, ymax = np.inf, np.inf, -np.inf, -np.inf\n",
    "    for i, row in gcp_img.iterrows(): \n",
    "        # reflectance coords\n",
    "        samp = xr.where((np.abs(X - row['X']) < 1e-2) & \n",
    "                        (np.abs(Y - row['Y']) < 1e-2), 1, 0)\n",
    "        if len(samp.where(samp==1, drop=True).x.values) < 1:\n",
    "            print(i, 'Skipping a GCP, no good coords found')\n",
    "            continue\n",
    "        x_samp = samp.where(samp==1, drop=True).x.values[0]\n",
    "        y_samp = samp.where(samp==1, drop=True).y.values[0]\n",
    "        ax[1].plot(x_samp, y_samp, 'o', linewidth=0.5, \n",
    "                   markerfacecolor=plt.cm.Set1(i/len(gcp_img)), markeredgecolor='w', markersize=5)\n",
    "        # adjust limits\n",
    "        if x_samp < xmin:\n",
    "            xmin = x_samp\n",
    "        if x_samp > xmax:\n",
    "            xmax = x_samp\n",
    "        if y_samp < ymin:\n",
    "            ymin = y_samp\n",
    "        if y_samp > ymax:\n",
    "            ymax = y_samp\n",
    "\n",
    "        # image coords\n",
    "        x_mesh, y_mesh = np.meshgrid(img.x.data, img.y.data)\n",
    "        x_samp_img = float(x_mesh[int(-row['sample_row']), int(row['sample_col'])])\n",
    "        y_samp_img = float(y_mesh[int(-row['sample_row']), int(row['sample_col'])])\n",
    "        ax[0].plot(x_samp_img, y_samp_img, 'o', linewidth=0.5,\n",
    "                   markerfacecolor=plt.cm.Set1(i/len(gcp_img)), markeredgecolor='w', markersize=5)\n",
    "\n",
    "    ax[0].set_title('Camera image')\n",
    "    ax[1].set_title('TLS reflectance')\n",
    "    for axis in ax:\n",
    "        axis.set_xticks([])\n",
    "        axis.set_yticks([])\n",
    "\n",
    "    ax[1].set_xlim(xmin-0.5, xmax+0.5)\n",
    "    ax[1].set_ylim(ymin-0.5, ymax+0.5)\n",
    "\n",
    "    fig.suptitle(img_name)\n",
    "    fig.tight_layout()\n",
    "\n",
    "    plt.show()\n",
    "\n",
    "    # save figure to file\n",
    "    fig.savefig(fig_fn, dpi=300, bbox_inches='tight')\n",
    "    print('Figure saved to file:', fig_fn)"
   ]
  },
  {
   "cell_type": "code",
   "execution_count": null,
   "id": "f93b1de1",
   "metadata": {},
   "outputs": [],
   "source": [
    "# Save GCP to file as TXT for ASP\n",
    "gcp_out_fn = gcp_fn.replace('.xlsx', '.gcp')\n",
    "gcp.to_csv(gcp_out_fn, sep=' ', header=False, index=False)\n",
    "print('GCP saved to file for ASP:', gcp_out_fn)"
   ]
  },
  {
   "cell_type": "code",
   "execution_count": null,
   "id": "c6baee20",
   "metadata": {},
   "outputs": [],
   "source": []
  }
 ],
 "metadata": {
  "kernelspec": {
   "display_name": "soo_locs",
   "language": "python",
   "name": "python3"
  },
  "language_info": {
   "codemirror_mode": {
    "name": "ipython",
    "version": 3
   },
   "file_extension": ".py",
   "mimetype": "text/x-python",
   "name": "python",
   "nbconvert_exporter": "python",
   "pygments_lexer": "ipython3",
   "version": "3.13.7"
  }
 },
 "nbformat": 4,
 "nbformat_minor": 5
}
